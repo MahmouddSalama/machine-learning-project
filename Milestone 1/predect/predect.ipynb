{
 "cells": [
  {
   "cell_type": "code",
   "execution_count": 1,
   "metadata": {},
   "outputs": [],
   "source": [
    "import numpy as np\n",
    "import pandas as pd\n",
    "import joblib"
   ]
  },
  {
   "cell_type": "code",
   "execution_count": 2,
   "metadata": {},
   "outputs": [
    {
     "name": "stdout",
     "output_type": "stream",
     "text": [
      "(3534, 92)\n"
     ]
    }
   ],
   "source": [
    "dataframe=pd.read_csv(\"player-tas-regression-test.csv\")\n",
    "print(dataframe.shape)"
   ]
  },
  {
   "cell_type": "code",
   "execution_count": 3,
   "metadata": {},
   "outputs": [
    {
     "data": {
      "text/plain": [
       "3534"
      ]
     },
     "execution_count": 3,
     "metadata": {},
     "output_type": "execute_result"
    }
   ],
   "source": [
    "len(dataframe)"
   ]
  },
  {
   "cell_type": "code",
   "execution_count": 4,
   "metadata": {},
   "outputs": [
    {
     "data": {
      "text/plain": [
       "(3534, 80)"
      ]
     },
     "execution_count": 4,
     "metadata": {},
     "output_type": "execute_result"
    }
   ],
   "source": [
    "# drop nulll & unusfull columns \n",
    "nullcols=['id', 'name', 'full_name', 'birth_date','traits','national_team','national_rating','national_team_position','national_jersey_number','club_join_date','contract_end_year','tags','traits']\n",
    "dataframe.drop(nullcols,axis=1,inplace=True)\n",
    "dataframe.shape"
   ]
  },
  {
   "cell_type": "code",
   "execution_count": 5,
   "metadata": {},
   "outputs": [
    {
     "data": {
      "text/plain": [
       "['ST', 'RW', 'RM']"
      ]
     },
     "execution_count": 5,
     "metadata": {},
     "output_type": "execute_result"
    }
   ],
   "source": [
    "c= dataframe['positions'].str.split(',').max()\n",
    "c # max num of position can player play on it in data is "
   ]
  },
  {
   "cell_type": "code",
   "execution_count": 6,
   "metadata": {},
   "outputs": [],
   "source": [
    "def spliPostion(data):\n",
    "    max_values = np.max([\n",
    "        data['positions'].apply(lambda x: len(str(x).split(','))).max(),\n",
    "    ])\n",
    "    return data['positions'].str.split(',').apply(lambda x: x + ['0'] * (max_values - len(x)))"
   ]
  },
  {
   "cell_type": "code",
   "execution_count": 7,
   "metadata": {},
   "outputs": [],
   "source": [
    "# the lare number player can play in it is 3\n",
    "play_postion = spliPostion(dataframe)\n",
    "dataframe['position_first'] = play_postion.apply(lambda x: x[0])\n",
    "dataframe['position_second'] = play_postion.apply(lambda x: x[1])\n",
    "dataframe['position_third'] = play_postion.apply(lambda x: x[2])\n",
    "dataframe.drop('positions', axis=1, inplace=True)"
   ]
  },
  {
   "cell_type": "code",
   "execution_count": null,
   "metadata": {},
   "outputs": [],
   "source": []
  },
  {
   "cell_type": "code",
   "execution_count": 8,
   "metadata": {},
   "outputs": [],
   "source": [
    "nationality=joblib.load('model/nationality_transform')\n",
    "dic = dict(zip(nationality.classes_, nationality.transform(nationality.classes_)))\n",
    "dataframe['nationality']=dataframe['nationality'].map(dic).fillna(-1).astype(int)\n",
    "\n",
    "\n",
    "preferred_foot=joblib.load('model/preferred_foot_transform')\n",
    "dic = dict(zip(preferred_foot.classes_, preferred_foot.transform(preferred_foot.classes_)))\n",
    "dataframe['preferred_foot']=dataframe['preferred_foot'].map(dic).fillna(-1).astype(int)\n",
    "\n",
    "\n",
    "body_type=joblib.load('model/body_type_transform')\n",
    "dic = dict(zip(body_type.classes_, body_type.transform(body_type.classes_)))\n",
    "dataframe['body_type']=dataframe['body_type'].map(dic).fillna(-1).astype(int)\n",
    "\n",
    "\n",
    "club_team=joblib.load('model/club_team_transform')\n",
    "dic = dict(zip(club_team.classes_, club_team.transform(club_team.classes_)))\n",
    "dataframe['club_team']=dataframe['club_team'].map(dic).fillna(-1).astype(int)\n",
    "\n",
    "\n",
    "club_position=joblib.load('model/club_position_transform')\n",
    "dic = dict(zip(club_position.classes_, club_position.transform(club_position.classes_)))\n",
    "dataframe['club_position']=dataframe['club_position'].map(dic).fillna(-1).astype(int)\n",
    "\n",
    "\n",
    "position_first=joblib.load('model/position_first_transform')\n",
    "dic = dict(zip(position_first.classes_, position_first.transform(position_first.classes_)))\n",
    "dataframe['position_first']=dataframe['position_first'].map(dic).fillna(-1).astype(int)\n",
    "\n",
    "\n",
    "position_second=joblib.load('model/position_second_transform')\n",
    "dic = dict(zip(position_second.classes_, position_second.transform(position_second.classes_)))\n",
    "dataframe['position_second']=dataframe['position_second'].map(dic).fillna(-1).astype(int)\n",
    "\n",
    "\n",
    "position_third=joblib.load('model/position_third_transform')\n",
    "dic = dict(zip(position_third.classes_, position_third.transform(position_third.classes_)))\n",
    "dataframe['position_third']=dataframe['position_third'].map(dic).fillna(-1).astype(int)\n"
   ]
  },
  {
   "cell_type": "code",
   "execution_count": 9,
   "metadata": {},
   "outputs": [
    {
     "data": {
      "text/html": [
       "<div>\n",
       "<style scoped>\n",
       "    .dataframe tbody tr th:only-of-type {\n",
       "        vertical-align: middle;\n",
       "    }\n",
       "\n",
       "    .dataframe tbody tr th {\n",
       "        vertical-align: top;\n",
       "    }\n",
       "\n",
       "    .dataframe thead th {\n",
       "        text-align: right;\n",
       "    }\n",
       "</style>\n",
       "<table border=\"1\" class=\"dataframe\">\n",
       "  <thead>\n",
       "    <tr style=\"text-align: right;\">\n",
       "      <th></th>\n",
       "      <th>age</th>\n",
       "      <th>height_cm</th>\n",
       "      <th>weight_kgs</th>\n",
       "      <th>nationality</th>\n",
       "      <th>overall_rating</th>\n",
       "      <th>potential</th>\n",
       "      <th>wage</th>\n",
       "      <th>preferred_foot</th>\n",
       "      <th>international_reputation(1-5)</th>\n",
       "      <th>weak_foot(1-5)</th>\n",
       "      <th>...</th>\n",
       "      <th>RWB</th>\n",
       "      <th>LB</th>\n",
       "      <th>LCB</th>\n",
       "      <th>CB</th>\n",
       "      <th>RCB</th>\n",
       "      <th>RB</th>\n",
       "      <th>value</th>\n",
       "      <th>position_first</th>\n",
       "      <th>position_second</th>\n",
       "      <th>position_third</th>\n",
       "    </tr>\n",
       "  </thead>\n",
       "  <tbody>\n",
       "    <tr>\n",
       "      <th>0</th>\n",
       "      <td>21</td>\n",
       "      <td>182.88</td>\n",
       "      <td>74.8</td>\n",
       "      <td>146</td>\n",
       "      <td>67</td>\n",
       "      <td>76</td>\n",
       "      <td>3000</td>\n",
       "      <td>1</td>\n",
       "      <td>1</td>\n",
       "      <td>3</td>\n",
       "      <td>...</td>\n",
       "      <td>64+2</td>\n",
       "      <td>63+2</td>\n",
       "      <td>60+2</td>\n",
       "      <td>60+2</td>\n",
       "      <td>60+2</td>\n",
       "      <td>63+2</td>\n",
       "      <td>1200000</td>\n",
       "      <td>4</td>\n",
       "      <td>3</td>\n",
       "      <td>10</td>\n",
       "    </tr>\n",
       "  </tbody>\n",
       "</table>\n",
       "<p>1 rows × 82 columns</p>\n",
       "</div>"
      ],
      "text/plain": [
       "   age  height_cm  weight_kgs  nationality  overall_rating  potential  wage  \\\n",
       "0   21     182.88        74.8          146              67         76  3000   \n",
       "\n",
       "   preferred_foot  international_reputation(1-5)  weak_foot(1-5)  ...   RWB  \\\n",
       "0               1                              1               3  ...  64+2   \n",
       "\n",
       "     LB   LCB    CB   RCB    RB    value  position_first  position_second  \\\n",
       "0  63+2  60+2  60+2  60+2  63+2  1200000               4                3   \n",
       "\n",
       "   position_third  \n",
       "0              10  \n",
       "\n",
       "[1 rows x 82 columns]"
      ]
     },
     "execution_count": 9,
     "metadata": {},
     "output_type": "execute_result"
    }
   ],
   "source": [
    "dataframe.head(1)"
   ]
  },
  {
   "cell_type": "code",
   "execution_count": 10,
   "metadata": {},
   "outputs": [],
   "source": [
    "dataframe['upper_work_rate'] = dataframe['work_rate'].apply(lambda x: x.split('/')[0])\n",
    "dataframe['down_work_rate'] = dataframe['work_rate'].apply(lambda x: x.split('/')[1])\n"
   ]
  },
  {
   "cell_type": "code",
   "execution_count": 11,
   "metadata": {},
   "outputs": [],
   "source": [
    "dataframe['height_cm'] = dataframe['height_cm'].apply(lambda x:x/100)"
   ]
  },
  {
   "cell_type": "code",
   "execution_count": 12,
   "metadata": {},
   "outputs": [
    {
     "data": {
      "text/html": [
       "<div>\n",
       "<style scoped>\n",
       "    .dataframe tbody tr th:only-of-type {\n",
       "        vertical-align: middle;\n",
       "    }\n",
       "\n",
       "    .dataframe tbody tr th {\n",
       "        vertical-align: top;\n",
       "    }\n",
       "\n",
       "    .dataframe thead th {\n",
       "        text-align: right;\n",
       "    }\n",
       "</style>\n",
       "<table border=\"1\" class=\"dataframe\">\n",
       "  <thead>\n",
       "    <tr style=\"text-align: right;\">\n",
       "      <th></th>\n",
       "      <th>age</th>\n",
       "      <th>height_cm</th>\n",
       "      <th>weight_kgs</th>\n",
       "      <th>nationality</th>\n",
       "      <th>overall_rating</th>\n",
       "      <th>potential</th>\n",
       "      <th>wage</th>\n",
       "      <th>preferred_foot</th>\n",
       "      <th>international_reputation(1-5)</th>\n",
       "      <th>weak_foot(1-5)</th>\n",
       "      <th>...</th>\n",
       "      <th>LCB</th>\n",
       "      <th>CB</th>\n",
       "      <th>RCB</th>\n",
       "      <th>RB</th>\n",
       "      <th>value</th>\n",
       "      <th>position_first</th>\n",
       "      <th>position_second</th>\n",
       "      <th>position_third</th>\n",
       "      <th>upper_work_rate</th>\n",
       "      <th>down_work_rate</th>\n",
       "    </tr>\n",
       "  </thead>\n",
       "  <tbody>\n",
       "    <tr>\n",
       "      <th>0</th>\n",
       "      <td>21</td>\n",
       "      <td>1.8288</td>\n",
       "      <td>74.8</td>\n",
       "      <td>146</td>\n",
       "      <td>67</td>\n",
       "      <td>76</td>\n",
       "      <td>3000</td>\n",
       "      <td>1</td>\n",
       "      <td>1</td>\n",
       "      <td>3</td>\n",
       "      <td>...</td>\n",
       "      <td>60+2</td>\n",
       "      <td>60+2</td>\n",
       "      <td>60+2</td>\n",
       "      <td>63+2</td>\n",
       "      <td>1200000</td>\n",
       "      <td>4</td>\n",
       "      <td>3</td>\n",
       "      <td>10</td>\n",
       "      <td>Medium</td>\n",
       "      <td>Medium</td>\n",
       "    </tr>\n",
       "    <tr>\n",
       "      <th>1</th>\n",
       "      <td>18</td>\n",
       "      <td>1.5494</td>\n",
       "      <td>67.1</td>\n",
       "      <td>76</td>\n",
       "      <td>60</td>\n",
       "      <td>82</td>\n",
       "      <td>1000</td>\n",
       "      <td>1</td>\n",
       "      <td>1</td>\n",
       "      <td>3</td>\n",
       "      <td>...</td>\n",
       "      <td>58+2</td>\n",
       "      <td>58+2</td>\n",
       "      <td>58+2</td>\n",
       "      <td>59+2</td>\n",
       "      <td>400000</td>\n",
       "      <td>2</td>\n",
       "      <td>5</td>\n",
       "      <td>0</td>\n",
       "      <td>Medium</td>\n",
       "      <td>Medium</td>\n",
       "    </tr>\n",
       "    <tr>\n",
       "      <th>2</th>\n",
       "      <td>28</td>\n",
       "      <td>1.7526</td>\n",
       "      <td>64.9</td>\n",
       "      <td>129</td>\n",
       "      <td>63</td>\n",
       "      <td>63</td>\n",
       "      <td>1000</td>\n",
       "      <td>1</td>\n",
       "      <td>1</td>\n",
       "      <td>3</td>\n",
       "      <td>...</td>\n",
       "      <td>41+2</td>\n",
       "      <td>41+2</td>\n",
       "      <td>41+2</td>\n",
       "      <td>50+2</td>\n",
       "      <td>375000</td>\n",
       "      <td>0</td>\n",
       "      <td>11</td>\n",
       "      <td>5</td>\n",
       "      <td>Medium</td>\n",
       "      <td>Medium</td>\n",
       "    </tr>\n",
       "  </tbody>\n",
       "</table>\n",
       "<p>3 rows × 84 columns</p>\n",
       "</div>"
      ],
      "text/plain": [
       "   age  height_cm  weight_kgs  nationality  overall_rating  potential  wage  \\\n",
       "0   21     1.8288        74.8          146              67         76  3000   \n",
       "1   18     1.5494        67.1           76              60         82  1000   \n",
       "2   28     1.7526        64.9          129              63         63  1000   \n",
       "\n",
       "   preferred_foot  international_reputation(1-5)  weak_foot(1-5)  ...   LCB  \\\n",
       "0               1                              1               3  ...  60+2   \n",
       "1               1                              1               3  ...  58+2   \n",
       "2               1                              1               3  ...  41+2   \n",
       "\n",
       "     CB   RCB    RB    value  position_first  position_second  position_third  \\\n",
       "0  60+2  60+2  63+2  1200000               4                3              10   \n",
       "1  58+2  58+2  59+2   400000               2                5               0   \n",
       "2  41+2  41+2  50+2   375000               0               11               5   \n",
       "\n",
       "   upper_work_rate  down_work_rate  \n",
       "0           Medium          Medium  \n",
       "1           Medium          Medium  \n",
       "2           Medium          Medium  \n",
       "\n",
       "[3 rows x 84 columns]"
      ]
     },
     "execution_count": 12,
     "metadata": {},
     "output_type": "execute_result"
    }
   ],
   "source": [
    "dataframe.head(3)"
   ]
  },
  {
   "cell_type": "code",
   "execution_count": 13,
   "metadata": {},
   "outputs": [],
   "source": [
    "release_clause_euro=joblib.load('model/minmax_release_clause_euro')\n",
    "dataframe['release_clause_euro']=release_clause_euro.transform(dataframe[['release_clause_euro']])\n",
    "\n",
    "wage=joblib.load('model/wage_release_clause_euro')\n",
    "dataframe['wage']=wage.transform(dataframe[['wage']])\n"
   ]
  },
  {
   "cell_type": "code",
   "execution_count": 14,
   "metadata": {},
   "outputs": [
    {
     "name": "stderr",
     "output_type": "stream",
     "text": [
      "C:\\Users\\EGYPT_~1\\AppData\\Local\\Temp/ipykernel_5688/1838296454.py:5: FutureWarning: The default value of regex will change from True to False in a future version. In addition, single character regular expressions will *not* be treated as literal strings when regex=True.\n",
      "  dataframe[columnName1] = dataframe[columnName1].str.replace('+', '.')\n"
     ]
    }
   ],
   "source": [
    "# rawan pre\n",
    "columnsIter2 = pd.DataFrame(dataframe, columns=['LS','ST','RS','LW','LF','CF','RF','RW','LAM','CAM','RAM','LM','LCM','CM','RCM','RM','LWB','LDM','CDM','RDM','RWB','LB','LCB','CB','RCB','RB'],index=[dataframe.index])\n",
    "\n",
    "for(columnName1, columnData1) in columnsIter2.iteritems():\n",
    "    dataframe[columnName1] = dataframe[columnName1].str.replace('+', '.')\n",
    "    dataframe[columnName1]= pd.to_numeric(dataframe[columnName1])\n",
    "\n",
    "#for null numerical values:\n",
    "columnsIter = pd.DataFrame(dataframe, columns=['LS','ST','RS','LW','LF','CF','RF','RW','LAM','CAM','RAM','LM','LCM','CM','RCM','RM','LWB','LDM','CDM','RDM','RWB','LB','LCB','CB','RCB','RB','wage','release_clause_euro','club_rating','club_jersey_number','value'],index=[dataframe.index])\n",
    "for (columnName, columnData) in columnsIter.iteritems():\n",
    "    dataframe[columnName] = dataframe[columnName].fillna(dataframe[columnName].mean())"
   ]
  },
  {
   "cell_type": "code",
   "execution_count": 15,
   "metadata": {},
   "outputs": [
    {
     "data": {
      "text/html": [
       "<div>\n",
       "<style scoped>\n",
       "    .dataframe tbody tr th:only-of-type {\n",
       "        vertical-align: middle;\n",
       "    }\n",
       "\n",
       "    .dataframe tbody tr th {\n",
       "        vertical-align: top;\n",
       "    }\n",
       "\n",
       "    .dataframe thead th {\n",
       "        text-align: right;\n",
       "    }\n",
       "</style>\n",
       "<table border=\"1\" class=\"dataframe\">\n",
       "  <thead>\n",
       "    <tr style=\"text-align: right;\">\n",
       "      <th></th>\n",
       "      <th>age</th>\n",
       "      <th>height_cm</th>\n",
       "      <th>weight_kgs</th>\n",
       "      <th>nationality</th>\n",
       "      <th>overall_rating</th>\n",
       "      <th>potential</th>\n",
       "      <th>wage</th>\n",
       "      <th>preferred_foot</th>\n",
       "      <th>international_reputation(1-5)</th>\n",
       "      <th>weak_foot(1-5)</th>\n",
       "      <th>...</th>\n",
       "      <th>LCB</th>\n",
       "      <th>CB</th>\n",
       "      <th>RCB</th>\n",
       "      <th>RB</th>\n",
       "      <th>value</th>\n",
       "      <th>position_first</th>\n",
       "      <th>position_second</th>\n",
       "      <th>position_third</th>\n",
       "      <th>upper_work_rate</th>\n",
       "      <th>down_work_rate</th>\n",
       "    </tr>\n",
       "  </thead>\n",
       "  <tbody>\n",
       "    <tr>\n",
       "      <th>0</th>\n",
       "      <td>21</td>\n",
       "      <td>1.8288</td>\n",
       "      <td>74.8</td>\n",
       "      <td>146</td>\n",
       "      <td>67</td>\n",
       "      <td>76</td>\n",
       "      <td>0.004405</td>\n",
       "      <td>1</td>\n",
       "      <td>1</td>\n",
       "      <td>3</td>\n",
       "      <td>...</td>\n",
       "      <td>60.2</td>\n",
       "      <td>60.2</td>\n",
       "      <td>60.2</td>\n",
       "      <td>63.2</td>\n",
       "      <td>1200000</td>\n",
       "      <td>4</td>\n",
       "      <td>3</td>\n",
       "      <td>10</td>\n",
       "      <td>Medium</td>\n",
       "      <td>Medium</td>\n",
       "    </tr>\n",
       "    <tr>\n",
       "      <th>1</th>\n",
       "      <td>18</td>\n",
       "      <td>1.5494</td>\n",
       "      <td>67.1</td>\n",
       "      <td>76</td>\n",
       "      <td>60</td>\n",
       "      <td>82</td>\n",
       "      <td>0.000000</td>\n",
       "      <td>1</td>\n",
       "      <td>1</td>\n",
       "      <td>3</td>\n",
       "      <td>...</td>\n",
       "      <td>58.2</td>\n",
       "      <td>58.2</td>\n",
       "      <td>58.2</td>\n",
       "      <td>59.2</td>\n",
       "      <td>400000</td>\n",
       "      <td>2</td>\n",
       "      <td>5</td>\n",
       "      <td>0</td>\n",
       "      <td>Medium</td>\n",
       "      <td>Medium</td>\n",
       "    </tr>\n",
       "    <tr>\n",
       "      <th>2</th>\n",
       "      <td>28</td>\n",
       "      <td>1.7526</td>\n",
       "      <td>64.9</td>\n",
       "      <td>129</td>\n",
       "      <td>63</td>\n",
       "      <td>63</td>\n",
       "      <td>0.000000</td>\n",
       "      <td>1</td>\n",
       "      <td>1</td>\n",
       "      <td>3</td>\n",
       "      <td>...</td>\n",
       "      <td>41.2</td>\n",
       "      <td>41.2</td>\n",
       "      <td>41.2</td>\n",
       "      <td>50.2</td>\n",
       "      <td>375000</td>\n",
       "      <td>0</td>\n",
       "      <td>11</td>\n",
       "      <td>5</td>\n",
       "      <td>Medium</td>\n",
       "      <td>Medium</td>\n",
       "    </tr>\n",
       "    <tr>\n",
       "      <th>3</th>\n",
       "      <td>20</td>\n",
       "      <td>1.8542</td>\n",
       "      <td>74.8</td>\n",
       "      <td>28</td>\n",
       "      <td>51</td>\n",
       "      <td>61</td>\n",
       "      <td>0.002203</td>\n",
       "      <td>1</td>\n",
       "      <td>1</td>\n",
       "      <td>3</td>\n",
       "      <td>...</td>\n",
       "      <td>48.2</td>\n",
       "      <td>48.2</td>\n",
       "      <td>48.2</td>\n",
       "      <td>49.2</td>\n",
       "      <td>60000</td>\n",
       "      <td>11</td>\n",
       "      <td>0</td>\n",
       "      <td>0</td>\n",
       "      <td>Medium</td>\n",
       "      <td>Medium</td>\n",
       "    </tr>\n",
       "    <tr>\n",
       "      <th>4</th>\n",
       "      <td>25</td>\n",
       "      <td>1.8288</td>\n",
       "      <td>77.1</td>\n",
       "      <td>27</td>\n",
       "      <td>63</td>\n",
       "      <td>68</td>\n",
       "      <td>0.000000</td>\n",
       "      <td>1</td>\n",
       "      <td>1</td>\n",
       "      <td>3</td>\n",
       "      <td>...</td>\n",
       "      <td>37.2</td>\n",
       "      <td>37.2</td>\n",
       "      <td>37.2</td>\n",
       "      <td>38.2</td>\n",
       "      <td>500000</td>\n",
       "      <td>14</td>\n",
       "      <td>0</td>\n",
       "      <td>0</td>\n",
       "      <td>Medium</td>\n",
       "      <td>Medium</td>\n",
       "    </tr>\n",
       "  </tbody>\n",
       "</table>\n",
       "<p>5 rows × 84 columns</p>\n",
       "</div>"
      ],
      "text/plain": [
       "   age  height_cm  weight_kgs  nationality  overall_rating  potential  \\\n",
       "0   21     1.8288        74.8          146              67         76   \n",
       "1   18     1.5494        67.1           76              60         82   \n",
       "2   28     1.7526        64.9          129              63         63   \n",
       "3   20     1.8542        74.8           28              51         61   \n",
       "4   25     1.8288        77.1           27              63         68   \n",
       "\n",
       "       wage  preferred_foot  international_reputation(1-5)  weak_foot(1-5)  \\\n",
       "0  0.004405               1                              1               3   \n",
       "1  0.000000               1                              1               3   \n",
       "2  0.000000               1                              1               3   \n",
       "3  0.002203               1                              1               3   \n",
       "4  0.000000               1                              1               3   \n",
       "\n",
       "   ...   LCB    CB   RCB    RB    value  position_first  position_second  \\\n",
       "0  ...  60.2  60.2  60.2  63.2  1200000               4                3   \n",
       "1  ...  58.2  58.2  58.2  59.2   400000               2                5   \n",
       "2  ...  41.2  41.2  41.2  50.2   375000               0               11   \n",
       "3  ...  48.2  48.2  48.2  49.2    60000              11                0   \n",
       "4  ...  37.2  37.2  37.2  38.2   500000              14                0   \n",
       "\n",
       "   position_third  upper_work_rate  down_work_rate  \n",
       "0              10           Medium          Medium  \n",
       "1               0           Medium          Medium  \n",
       "2               5           Medium          Medium  \n",
       "3               0           Medium          Medium  \n",
       "4               0           Medium          Medium  \n",
       "\n",
       "[5 rows x 84 columns]"
      ]
     },
     "execution_count": 15,
     "metadata": {},
     "output_type": "execute_result"
    }
   ],
   "source": [
    "dataframe.head()"
   ]
  },
  {
   "cell_type": "code",
   "execution_count": 16,
   "metadata": {},
   "outputs": [],
   "source": [
    "def convert_rate(col):\n",
    "    coll =joblib.load('model/'+col+'_predect')\n",
    "    dic = dict(zip(coll.classes_, coll.transform(coll.classes_)))\n",
    "    dataframe[col]=dataframe[col].map(dic).fillna(-1).astype(int)\n",
    "    dataframe[col]=dataframe[col].apply(lambda x:x+1)\n",
    "\n",
    "convert_rate('upper_work_rate')\n",
    "convert_rate('down_work_rate')"
   ]
  },
  {
   "cell_type": "code",
   "execution_count": 17,
   "metadata": {},
   "outputs": [
    {
     "data": {
      "text/html": [
       "<div>\n",
       "<style scoped>\n",
       "    .dataframe tbody tr th:only-of-type {\n",
       "        vertical-align: middle;\n",
       "    }\n",
       "\n",
       "    .dataframe tbody tr th {\n",
       "        vertical-align: top;\n",
       "    }\n",
       "\n",
       "    .dataframe thead th {\n",
       "        text-align: right;\n",
       "    }\n",
       "</style>\n",
       "<table border=\"1\" class=\"dataframe\">\n",
       "  <thead>\n",
       "    <tr style=\"text-align: right;\">\n",
       "      <th></th>\n",
       "      <th>age</th>\n",
       "      <th>height_cm</th>\n",
       "      <th>weight_kgs</th>\n",
       "      <th>nationality</th>\n",
       "      <th>overall_rating</th>\n",
       "      <th>potential</th>\n",
       "      <th>wage</th>\n",
       "      <th>preferred_foot</th>\n",
       "      <th>international_reputation(1-5)</th>\n",
       "      <th>weak_foot(1-5)</th>\n",
       "      <th>...</th>\n",
       "      <th>LCB</th>\n",
       "      <th>CB</th>\n",
       "      <th>RCB</th>\n",
       "      <th>RB</th>\n",
       "      <th>value</th>\n",
       "      <th>position_first</th>\n",
       "      <th>position_second</th>\n",
       "      <th>position_third</th>\n",
       "      <th>upper_work_rate</th>\n",
       "      <th>down_work_rate</th>\n",
       "    </tr>\n",
       "  </thead>\n",
       "  <tbody>\n",
       "    <tr>\n",
       "      <th>0</th>\n",
       "      <td>21</td>\n",
       "      <td>1.8288</td>\n",
       "      <td>74.8</td>\n",
       "      <td>146</td>\n",
       "      <td>67</td>\n",
       "      <td>76</td>\n",
       "      <td>0.004405</td>\n",
       "      <td>1</td>\n",
       "      <td>1</td>\n",
       "      <td>3</td>\n",
       "      <td>...</td>\n",
       "      <td>60.2</td>\n",
       "      <td>60.2</td>\n",
       "      <td>60.2</td>\n",
       "      <td>63.2</td>\n",
       "      <td>1200000</td>\n",
       "      <td>4</td>\n",
       "      <td>3</td>\n",
       "      <td>10</td>\n",
       "      <td>3</td>\n",
       "      <td>3</td>\n",
       "    </tr>\n",
       "  </tbody>\n",
       "</table>\n",
       "<p>1 rows × 84 columns</p>\n",
       "</div>"
      ],
      "text/plain": [
       "   age  height_cm  weight_kgs  nationality  overall_rating  potential  \\\n",
       "0   21     1.8288        74.8          146              67         76   \n",
       "\n",
       "       wage  preferred_foot  international_reputation(1-5)  weak_foot(1-5)  \\\n",
       "0  0.004405               1                              1               3   \n",
       "\n",
       "   ...   LCB    CB   RCB    RB    value  position_first  position_second  \\\n",
       "0  ...  60.2  60.2  60.2  63.2  1200000               4                3   \n",
       "\n",
       "   position_third  upper_work_rate  down_work_rate  \n",
       "0              10                3               3  \n",
       "\n",
       "[1 rows x 84 columns]"
      ]
     },
     "execution_count": 17,
     "metadata": {},
     "output_type": "execute_result"
    }
   ],
   "source": [
    "dataframe.head(1)"
   ]
  },
  {
   "cell_type": "code",
   "execution_count": 18,
   "metadata": {},
   "outputs": [
    {
     "data": {
      "text/plain": [
       "0    1.0\n",
       "1    1.0\n",
       "2    1.0\n",
       "3    1.0\n",
       "4    1.0\n",
       "Name: num_of_work_rate, dtype: float64"
      ]
     },
     "execution_count": 18,
     "metadata": {},
     "output_type": "execute_result"
    }
   ],
   "source": [
    "dataframe['num_of_work_rate']=dataframe['upper_work_rate']/dataframe['down_work_rate']\n",
    "dataframe['num_of_work_rate'].head()"
   ]
  },
  {
   "cell_type": "code",
   "execution_count": 19,
   "metadata": {},
   "outputs": [],
   "source": [
    "dataframe= dataframe.drop(['work_rate'],axis=1)"
   ]
  },
  {
   "cell_type": "code",
   "execution_count": 20,
   "metadata": {},
   "outputs": [],
   "source": [
    "for col in dataframe.columns:\n",
    "    if dataframe[col].isnull:\n",
    "        \n",
    "        dataframe[col].fillna(dataframe[col].mean(),inplace=True)"
   ]
  },
  {
   "cell_type": "code",
   "execution_count": 21,
   "metadata": {},
   "outputs": [
    {
     "data": {
      "text/html": [
       "<div>\n",
       "<style scoped>\n",
       "    .dataframe tbody tr th:only-of-type {\n",
       "        vertical-align: middle;\n",
       "    }\n",
       "\n",
       "    .dataframe tbody tr th {\n",
       "        vertical-align: top;\n",
       "    }\n",
       "\n",
       "    .dataframe thead th {\n",
       "        text-align: right;\n",
       "    }\n",
       "</style>\n",
       "<table border=\"1\" class=\"dataframe\">\n",
       "  <thead>\n",
       "    <tr style=\"text-align: right;\">\n",
       "      <th></th>\n",
       "      <th>age</th>\n",
       "      <th>height_cm</th>\n",
       "      <th>weight_kgs</th>\n",
       "      <th>nationality</th>\n",
       "      <th>overall_rating</th>\n",
       "      <th>potential</th>\n",
       "      <th>wage</th>\n",
       "      <th>preferred_foot</th>\n",
       "      <th>international_reputation(1-5)</th>\n",
       "      <th>weak_foot(1-5)</th>\n",
       "      <th>...</th>\n",
       "      <th>CB</th>\n",
       "      <th>RCB</th>\n",
       "      <th>RB</th>\n",
       "      <th>value</th>\n",
       "      <th>position_first</th>\n",
       "      <th>position_second</th>\n",
       "      <th>position_third</th>\n",
       "      <th>upper_work_rate</th>\n",
       "      <th>down_work_rate</th>\n",
       "      <th>num_of_work_rate</th>\n",
       "    </tr>\n",
       "  </thead>\n",
       "  <tbody>\n",
       "    <tr>\n",
       "      <th>0</th>\n",
       "      <td>21</td>\n",
       "      <td>1.8288</td>\n",
       "      <td>74.8</td>\n",
       "      <td>146</td>\n",
       "      <td>67</td>\n",
       "      <td>76</td>\n",
       "      <td>0.004405</td>\n",
       "      <td>1</td>\n",
       "      <td>1</td>\n",
       "      <td>3</td>\n",
       "      <td>...</td>\n",
       "      <td>60.2</td>\n",
       "      <td>60.2</td>\n",
       "      <td>63.2</td>\n",
       "      <td>1200000</td>\n",
       "      <td>4</td>\n",
       "      <td>3</td>\n",
       "      <td>10</td>\n",
       "      <td>3</td>\n",
       "      <td>3</td>\n",
       "      <td>1.0</td>\n",
       "    </tr>\n",
       "    <tr>\n",
       "      <th>1</th>\n",
       "      <td>18</td>\n",
       "      <td>1.5494</td>\n",
       "      <td>67.1</td>\n",
       "      <td>76</td>\n",
       "      <td>60</td>\n",
       "      <td>82</td>\n",
       "      <td>0.000000</td>\n",
       "      <td>1</td>\n",
       "      <td>1</td>\n",
       "      <td>3</td>\n",
       "      <td>...</td>\n",
       "      <td>58.2</td>\n",
       "      <td>58.2</td>\n",
       "      <td>59.2</td>\n",
       "      <td>400000</td>\n",
       "      <td>2</td>\n",
       "      <td>5</td>\n",
       "      <td>0</td>\n",
       "      <td>3</td>\n",
       "      <td>3</td>\n",
       "      <td>1.0</td>\n",
       "    </tr>\n",
       "    <tr>\n",
       "      <th>2</th>\n",
       "      <td>28</td>\n",
       "      <td>1.7526</td>\n",
       "      <td>64.9</td>\n",
       "      <td>129</td>\n",
       "      <td>63</td>\n",
       "      <td>63</td>\n",
       "      <td>0.000000</td>\n",
       "      <td>1</td>\n",
       "      <td>1</td>\n",
       "      <td>3</td>\n",
       "      <td>...</td>\n",
       "      <td>41.2</td>\n",
       "      <td>41.2</td>\n",
       "      <td>50.2</td>\n",
       "      <td>375000</td>\n",
       "      <td>0</td>\n",
       "      <td>11</td>\n",
       "      <td>5</td>\n",
       "      <td>3</td>\n",
       "      <td>3</td>\n",
       "      <td>1.0</td>\n",
       "    </tr>\n",
       "    <tr>\n",
       "      <th>3</th>\n",
       "      <td>20</td>\n",
       "      <td>1.8542</td>\n",
       "      <td>74.8</td>\n",
       "      <td>28</td>\n",
       "      <td>51</td>\n",
       "      <td>61</td>\n",
       "      <td>0.002203</td>\n",
       "      <td>1</td>\n",
       "      <td>1</td>\n",
       "      <td>3</td>\n",
       "      <td>...</td>\n",
       "      <td>48.2</td>\n",
       "      <td>48.2</td>\n",
       "      <td>49.2</td>\n",
       "      <td>60000</td>\n",
       "      <td>11</td>\n",
       "      <td>0</td>\n",
       "      <td>0</td>\n",
       "      <td>3</td>\n",
       "      <td>3</td>\n",
       "      <td>1.0</td>\n",
       "    </tr>\n",
       "    <tr>\n",
       "      <th>4</th>\n",
       "      <td>25</td>\n",
       "      <td>1.8288</td>\n",
       "      <td>77.1</td>\n",
       "      <td>27</td>\n",
       "      <td>63</td>\n",
       "      <td>68</td>\n",
       "      <td>0.000000</td>\n",
       "      <td>1</td>\n",
       "      <td>1</td>\n",
       "      <td>3</td>\n",
       "      <td>...</td>\n",
       "      <td>37.2</td>\n",
       "      <td>37.2</td>\n",
       "      <td>38.2</td>\n",
       "      <td>500000</td>\n",
       "      <td>14</td>\n",
       "      <td>0</td>\n",
       "      <td>0</td>\n",
       "      <td>3</td>\n",
       "      <td>3</td>\n",
       "      <td>1.0</td>\n",
       "    </tr>\n",
       "  </tbody>\n",
       "</table>\n",
       "<p>5 rows × 84 columns</p>\n",
       "</div>"
      ],
      "text/plain": [
       "   age  height_cm  weight_kgs  nationality  overall_rating  potential  \\\n",
       "0   21     1.8288        74.8          146              67         76   \n",
       "1   18     1.5494        67.1           76              60         82   \n",
       "2   28     1.7526        64.9          129              63         63   \n",
       "3   20     1.8542        74.8           28              51         61   \n",
       "4   25     1.8288        77.1           27              63         68   \n",
       "\n",
       "       wage  preferred_foot  international_reputation(1-5)  weak_foot(1-5)  \\\n",
       "0  0.004405               1                              1               3   \n",
       "1  0.000000               1                              1               3   \n",
       "2  0.000000               1                              1               3   \n",
       "3  0.002203               1                              1               3   \n",
       "4  0.000000               1                              1               3   \n",
       "\n",
       "   ...    CB   RCB    RB    value  position_first  position_second  \\\n",
       "0  ...  60.2  60.2  63.2  1200000               4                3   \n",
       "1  ...  58.2  58.2  59.2   400000               2                5   \n",
       "2  ...  41.2  41.2  50.2   375000               0               11   \n",
       "3  ...  48.2  48.2  49.2    60000              11                0   \n",
       "4  ...  37.2  37.2  38.2   500000              14                0   \n",
       "\n",
       "   position_third  upper_work_rate  down_work_rate  num_of_work_rate  \n",
       "0              10                3               3               1.0  \n",
       "1               0                3               3               1.0  \n",
       "2               5                3               3               1.0  \n",
       "3               0                3               3               1.0  \n",
       "4               0                3               3               1.0  \n",
       "\n",
       "[5 rows x 84 columns]"
      ]
     },
     "execution_count": 21,
     "metadata": {},
     "output_type": "execute_result"
    }
   ],
   "source": [
    "dataframe.head()"
   ]
  },
  {
   "cell_type": "code",
   "execution_count": 22,
   "metadata": {},
   "outputs": [],
   "source": [
    "data=dataframe[['overall_rating', 'potential', 'wage', 'international_reputation(1-5)',\n",
    "       'release_clause_euro', 'club_rating', 'reactions', 'value']]"
   ]
  },
  {
   "cell_type": "code",
   "execution_count": 23,
   "metadata": {},
   "outputs": [
    {
     "data": {
      "text/plain": [
       "PolynomialFeatures()"
      ]
     },
     "execution_count": 23,
     "metadata": {},
     "output_type": "execute_result"
    }
   ],
   "source": [
    "poly=joblib.load('model/poly_data_to2')\n",
    "xpoly=poly.transform(data.drop(['value',],axis=1))\n",
    "\n",
    "poly.fit(xpoly,data['value'])\n"
   ]
  },
  {
   "cell_type": "code",
   "execution_count": 24,
   "metadata": {},
   "outputs": [],
   "source": [
    "model= joblib.load('model/model_regression')"
   ]
  },
  {
   "cell_type": "code",
   "execution_count": 25,
   "metadata": {},
   "outputs": [
    {
     "data": {
      "text/plain": [
       "0.9822461777666424"
      ]
     },
     "execution_count": 25,
     "metadata": {},
     "output_type": "execute_result"
    }
   ],
   "source": [
    "model.score(xpoly,data['value'])"
   ]
  },
  {
   "cell_type": "code",
   "execution_count": 26,
   "metadata": {},
   "outputs": [
    {
     "data": {
      "text/plain": [
       "array([1361665.02799296,  479490.05202281,  296274.61360919, ...,\n",
       "        827199.08989565,  639565.36722866, 2394365.50933824])"
      ]
     },
     "execution_count": 26,
     "metadata": {},
     "output_type": "execute_result"
    }
   ],
   "source": [
    "model.predict(xpoly)"
   ]
  },
  {
   "cell_type": "code",
   "execution_count": 27,
   "metadata": {},
   "outputs": [
    {
     "ename": "ValueError",
     "evalue": "matmul: Input operand 1 has a mismatch in its core dimension 0, with gufunc signature (n?,k),(k,m?)->(n?,m?) (size 36 is different from 83)",
     "output_type": "error",
     "traceback": [
      "\u001b[1;31m---------------------------------------------------------------------------\u001b[0m",
      "\u001b[1;31mValueError\u001b[0m                                Traceback (most recent call last)",
      "\u001b[1;32mC:\\Users\\EGYPT_~1\\AppData\\Local\\Temp/ipykernel_5688/2927073724.py\u001b[0m in \u001b[0;36m<module>\u001b[1;34m\u001b[0m\n\u001b[0;32m      1\u001b[0m \u001b[1;32mfrom\u001b[0m \u001b[0msklearn\u001b[0m\u001b[1;33m.\u001b[0m\u001b[0mmetrics\u001b[0m \u001b[1;32mimport\u001b[0m \u001b[0mmean_squared_error\u001b[0m\u001b[1;33m\u001b[0m\u001b[1;33m\u001b[0m\u001b[0m\n\u001b[1;32m----> 2\u001b[1;33m \u001b[0mypred\u001b[0m\u001b[1;33m=\u001b[0m\u001b[0mmodel\u001b[0m\u001b[1;33m.\u001b[0m\u001b[0mpredict\u001b[0m\u001b[1;33m(\u001b[0m\u001b[0mdataframe\u001b[0m\u001b[1;33m.\u001b[0m\u001b[0mdrop\u001b[0m\u001b[1;33m(\u001b[0m\u001b[1;33m[\u001b[0m\u001b[1;34m'value'\u001b[0m\u001b[1;33m]\u001b[0m\u001b[1;33m,\u001b[0m\u001b[0maxis\u001b[0m\u001b[1;33m=\u001b[0m\u001b[1;36m1\u001b[0m\u001b[1;33m)\u001b[0m\u001b[1;33m)\u001b[0m\u001b[1;33m\u001b[0m\u001b[1;33m\u001b[0m\u001b[0m\n\u001b[0m\u001b[0;32m      3\u001b[0m \u001b[0mmean_squared_error\u001b[0m\u001b[1;33m(\u001b[0m\u001b[0mdataframe\u001b[0m\u001b[1;33m[\u001b[0m\u001b[1;34m'value'\u001b[0m\u001b[1;33m]\u001b[0m\u001b[1;33m,\u001b[0m\u001b[0mypred\u001b[0m\u001b[1;33m)\u001b[0m\u001b[1;33m\u001b[0m\u001b[1;33m\u001b[0m\u001b[0m\n",
      "\u001b[1;32mc:\\ProgramData\\Anaconda3\\lib\\site-packages\\sklearn\\linear_model\\_base.py\u001b[0m in \u001b[0;36mpredict\u001b[1;34m(self, X)\u001b[0m\n\u001b[0;32m    236\u001b[0m             \u001b[0mReturns\u001b[0m \u001b[0mpredicted\u001b[0m \u001b[0mvalues\u001b[0m\u001b[1;33m.\u001b[0m\u001b[1;33m\u001b[0m\u001b[1;33m\u001b[0m\u001b[0m\n\u001b[0;32m    237\u001b[0m         \"\"\"\n\u001b[1;32m--> 238\u001b[1;33m         \u001b[1;32mreturn\u001b[0m \u001b[0mself\u001b[0m\u001b[1;33m.\u001b[0m\u001b[0m_decision_function\u001b[0m\u001b[1;33m(\u001b[0m\u001b[0mX\u001b[0m\u001b[1;33m)\u001b[0m\u001b[1;33m\u001b[0m\u001b[1;33m\u001b[0m\u001b[0m\n\u001b[0m\u001b[0;32m    239\u001b[0m \u001b[1;33m\u001b[0m\u001b[0m\n\u001b[0;32m    240\u001b[0m     \u001b[0m_preprocess_data\u001b[0m \u001b[1;33m=\u001b[0m \u001b[0mstaticmethod\u001b[0m\u001b[1;33m(\u001b[0m\u001b[0m_preprocess_data\u001b[0m\u001b[1;33m)\u001b[0m\u001b[1;33m\u001b[0m\u001b[1;33m\u001b[0m\u001b[0m\n",
      "\u001b[1;32mc:\\ProgramData\\Anaconda3\\lib\\site-packages\\sklearn\\linear_model\\_base.py\u001b[0m in \u001b[0;36m_decision_function\u001b[1;34m(self, X)\u001b[0m\n\u001b[0;32m    219\u001b[0m \u001b[1;33m\u001b[0m\u001b[0m\n\u001b[0;32m    220\u001b[0m         \u001b[0mX\u001b[0m \u001b[1;33m=\u001b[0m \u001b[0mcheck_array\u001b[0m\u001b[1;33m(\u001b[0m\u001b[0mX\u001b[0m\u001b[1;33m,\u001b[0m \u001b[0maccept_sparse\u001b[0m\u001b[1;33m=\u001b[0m\u001b[1;33m[\u001b[0m\u001b[1;34m'csr'\u001b[0m\u001b[1;33m,\u001b[0m \u001b[1;34m'csc'\u001b[0m\u001b[1;33m,\u001b[0m \u001b[1;34m'coo'\u001b[0m\u001b[1;33m]\u001b[0m\u001b[1;33m)\u001b[0m\u001b[1;33m\u001b[0m\u001b[1;33m\u001b[0m\u001b[0m\n\u001b[1;32m--> 221\u001b[1;33m         return safe_sparse_dot(X, self.coef_.T,\n\u001b[0m\u001b[0;32m    222\u001b[0m                                dense_output=True) + self.intercept_\n\u001b[0;32m    223\u001b[0m \u001b[1;33m\u001b[0m\u001b[0m\n",
      "\u001b[1;32mc:\\ProgramData\\Anaconda3\\lib\\site-packages\\sklearn\\utils\\validation.py\u001b[0m in \u001b[0;36minner_f\u001b[1;34m(*args, **kwargs)\u001b[0m\n\u001b[0;32m     61\u001b[0m             \u001b[0mextra_args\u001b[0m \u001b[1;33m=\u001b[0m \u001b[0mlen\u001b[0m\u001b[1;33m(\u001b[0m\u001b[0margs\u001b[0m\u001b[1;33m)\u001b[0m \u001b[1;33m-\u001b[0m \u001b[0mlen\u001b[0m\u001b[1;33m(\u001b[0m\u001b[0mall_args\u001b[0m\u001b[1;33m)\u001b[0m\u001b[1;33m\u001b[0m\u001b[1;33m\u001b[0m\u001b[0m\n\u001b[0;32m     62\u001b[0m             \u001b[1;32mif\u001b[0m \u001b[0mextra_args\u001b[0m \u001b[1;33m<=\u001b[0m \u001b[1;36m0\u001b[0m\u001b[1;33m:\u001b[0m\u001b[1;33m\u001b[0m\u001b[1;33m\u001b[0m\u001b[0m\n\u001b[1;32m---> 63\u001b[1;33m                 \u001b[1;32mreturn\u001b[0m \u001b[0mf\u001b[0m\u001b[1;33m(\u001b[0m\u001b[1;33m*\u001b[0m\u001b[0margs\u001b[0m\u001b[1;33m,\u001b[0m \u001b[1;33m**\u001b[0m\u001b[0mkwargs\u001b[0m\u001b[1;33m)\u001b[0m\u001b[1;33m\u001b[0m\u001b[1;33m\u001b[0m\u001b[0m\n\u001b[0m\u001b[0;32m     64\u001b[0m \u001b[1;33m\u001b[0m\u001b[0m\n\u001b[0;32m     65\u001b[0m             \u001b[1;31m# extra_args > 0\u001b[0m\u001b[1;33m\u001b[0m\u001b[1;33m\u001b[0m\u001b[0m\n",
      "\u001b[1;32mc:\\ProgramData\\Anaconda3\\lib\\site-packages\\sklearn\\utils\\extmath.py\u001b[0m in \u001b[0;36msafe_sparse_dot\u001b[1;34m(a, b, dense_output)\u001b[0m\n\u001b[0;32m    150\u001b[0m             \u001b[0mret\u001b[0m \u001b[1;33m=\u001b[0m \u001b[0mnp\u001b[0m\u001b[1;33m.\u001b[0m\u001b[0mdot\u001b[0m\u001b[1;33m(\u001b[0m\u001b[0ma\u001b[0m\u001b[1;33m,\u001b[0m \u001b[0mb\u001b[0m\u001b[1;33m)\u001b[0m\u001b[1;33m\u001b[0m\u001b[1;33m\u001b[0m\u001b[0m\n\u001b[0;32m    151\u001b[0m     \u001b[1;32melse\u001b[0m\u001b[1;33m:\u001b[0m\u001b[1;33m\u001b[0m\u001b[1;33m\u001b[0m\u001b[0m\n\u001b[1;32m--> 152\u001b[1;33m         \u001b[0mret\u001b[0m \u001b[1;33m=\u001b[0m \u001b[0ma\u001b[0m \u001b[1;33m@\u001b[0m \u001b[0mb\u001b[0m\u001b[1;33m\u001b[0m\u001b[1;33m\u001b[0m\u001b[0m\n\u001b[0m\u001b[0;32m    153\u001b[0m \u001b[1;33m\u001b[0m\u001b[0m\n\u001b[0;32m    154\u001b[0m     if (sparse.issparse(a) and sparse.issparse(b)\n",
      "\u001b[1;31mValueError\u001b[0m: matmul: Input operand 1 has a mismatch in its core dimension 0, with gufunc signature (n?,k),(k,m?)->(n?,m?) (size 36 is different from 83)"
     ]
    }
   ],
   "source": [
    "from sklearn.metrics import mean_squared_error\n",
    "ypred=model.predict(dataframe.drop(['value'],axis=1))\n",
    "mean_squared_error(dataframe['value'],ypred)"
   ]
  }
 ],
 "metadata": {
  "interpreter": {
   "hash": "ad2bdc8ecc057115af97d19610ffacc2b4e99fae6737bb82f5d7fb13d2f2c186"
  },
  "kernelspec": {
   "display_name": "Python 3.9.7 ('base')",
   "language": "python",
   "name": "python3"
  },
  "language_info": {
   "codemirror_mode": {
    "name": "ipython",
    "version": 3
   },
   "file_extension": ".py",
   "mimetype": "text/x-python",
   "name": "python",
   "nbconvert_exporter": "python",
   "pygments_lexer": "ipython3",
   "version": "3.9.7"
  },
  "orig_nbformat": 4
 },
 "nbformat": 4,
 "nbformat_minor": 2
}
